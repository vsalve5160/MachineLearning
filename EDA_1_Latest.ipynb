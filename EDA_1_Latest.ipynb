{
 "cells": [
  {
   "cell_type": "markdown",
   "metadata": {},
   "source": [
    "# Exploratory Data Analysis"
   ]
  },
  {
   "cell_type": "code",
   "execution_count": 1,
   "metadata": {},
   "outputs": [
    {
     "name": "stdout",
     "output_type": "stream",
     "text": [
      "Collecting pandas_profiling\n",
      "  Using cached pandas_profiling-3.6.6-py2.py3-none-any.whl (324 kB)\n",
      "Collecting ydata-profiling\n",
      "  Using cached ydata_profiling-4.9.0-py2.py3-none-any.whl (356 kB)\n",
      "Collecting phik<0.13,>=0.11.1\n",
      "  Using cached phik-0.12.4-cp39-cp39-win_amd64.whl (666 kB)\n",
      "Requirement already satisfied: seaborn<0.14,>=0.10.1 in c:\\users\\ds\\anaconda3\\lib\\site-packages (from ydata-profiling->pandas_profiling) (0.11.2)\n",
      "Collecting wordcloud>=1.9.1\n",
      "  Using cached wordcloud-1.9.3-cp39-cp39-win_amd64.whl (300 kB)\n",
      "Collecting multimethod<2,>=1.4\n",
      "  Using cached multimethod-1.12-py3-none-any.whl (10 kB)\n",
      "Collecting imagehash==4.3.1\n",
      "  Using cached ImageHash-4.3.1-py2.py3-none-any.whl (296 kB)\n",
      "Requirement already satisfied: scipy<1.14,>=1.4.1 in c:\\users\\ds\\anaconda3\\lib\\site-packages (from ydata-profiling->pandas_profiling) (1.13.1)\n",
      "Collecting numba<1,>=0.56.0\n",
      "  Using cached numba-0.60.0-cp39-cp39-win_amd64.whl (2.7 MB)\n",
      "Collecting htmlmin==0.1.12\n",
      "  Using cached htmlmin-0.1.12-py3-none-any.whl\n",
      "Collecting pydantic>=2"
     ]
    },
    {
     "name": "stderr",
     "output_type": "stream",
     "text": [
      "WARNING: Ignoring invalid distribution -cipy (c:\\users\\ds\\anaconda3\\lib\\site-packages)\n",
      "WARNING: Ignoring invalid distribution -cipy (c:\\users\\ds\\anaconda3\\lib\\site-packages)\n",
      "WARNING: Ignoring invalid distribution -cipy (c:\\users\\ds\\anaconda3\\lib\\site-packages)\n",
      "    WARNING: Ignoring invalid distribution -cipy (c:\\users\\ds\\anaconda3\\lib\\site-packages)\n",
      "    WARNING: Ignoring invalid distribution -cipy (c:\\users\\ds\\anaconda3\\lib\\site-packages)\n",
      "    WARNING: Ignoring invalid distribution -cipy (c:\\users\\ds\\anaconda3\\lib\\site-packages)\n",
      "    WARNING: Ignoring invalid distribution -cipy (c:\\users\\ds\\anaconda3\\lib\\site-packages)\n",
      "    WARNING: Ignoring invalid distribution -cipy (c:\\users\\ds\\anaconda3\\lib\\site-packages)\n",
      "ERROR: Cannot uninstall 'llvmlite'. It is a distutils installed project and thus we cannot accurately determine which files belong to it which would lead to only a partial uninstall.\n",
      "WARNING: Ignoring invalid distribution -cipy (c:\\users\\ds\\anaconda3\\lib\\site-packages)\n",
      "WARNING: Ignoring invalid distribution -cipy (c:\\users\\ds\\anaconda3\\lib\\site-packages)\n",
      "WARNING: Ignoring invalid distribution -cipy (c:\\users\\ds\\anaconda3\\lib\\site-packages)\n"
     ]
    },
    {
     "name": "stdout",
     "output_type": "stream",
     "text": [
      "\n",
      "  Using cached pydantic-2.8.2-py3-none-any.whl (423 kB)\n",
      "Requirement already satisfied: PyYAML<6.1,>=5.0.0 in c:\\users\\ds\\anaconda3\\lib\\site-packages (from ydata-profiling->pandas_profiling) (6.0)\n",
      "Collecting statsmodels<1,>=0.13.2\n",
      "  Using cached statsmodels-0.14.2-cp39-cp39-win_amd64.whl (9.9 MB)\n",
      "Collecting dacite>=1.8\n",
      "  Using cached dacite-1.8.1-py3-none-any.whl (14 kB)\n",
      "Collecting matplotlib<3.10,>=3.5\n",
      "  Using cached matplotlib-3.9.1-cp39-cp39-win_amd64.whl (8.0 MB)\n",
      "Requirement already satisfied: jinja2<3.2,>=2.11.1 in c:\\users\\ds\\anaconda3\\lib\\site-packages (from ydata-profiling->pandas_profiling) (2.11.3)\n",
      "Requirement already satisfied: pandas!=1.4.0,<3,>1.1 in c:\\users\\ds\\anaconda3\\lib\\site-packages (from ydata-profiling->pandas_profiling) (1.3.4)\n",
      "Requirement already satisfied: numpy<2,>=1.16.0 in c:\\users\\ds\\anaconda3\\lib\\site-packages (from ydata-profiling->pandas_profiling) (1.26.4)\n",
      "Requirement already satisfied: tqdm<5,>=4.48.2 in c:\\users\\ds\\anaconda3\\lib\\site-packages (from ydata-profiling->pandas_profiling) (4.62.3)\n",
      "Collecting visions[type_image_path]<0.7.7,>=0.7.5\n",
      "  Using cached visions-0.7.6-py3-none-any.whl (104 kB)\n",
      "Requirement already satisfied: requests<3,>=2.24.0 in c:\\users\\ds\\anaconda3\\lib\\site-packages (from ydata-profiling->pandas_profiling) (2.26.0)\n",
      "Collecting typeguard<5,>=3\n",
      "  Using cached typeguard-4.3.0-py3-none-any.whl (35 kB)\n",
      "Requirement already satisfied: PyWavelets in c:\\users\\ds\\anaconda3\\lib\\site-packages (from imagehash==4.3.1->ydata-profiling->pandas_profiling) (1.1.1)\n",
      "Requirement already satisfied: pillow in c:\\users\\ds\\anaconda3\\lib\\site-packages (from imagehash==4.3.1->ydata-profiling->pandas_profiling) (8.4.0)\n",
      "Requirement already satisfied: MarkupSafe>=0.23 in c:\\users\\ds\\anaconda3\\lib\\site-packages (from jinja2<3.2,>=2.11.1->ydata-profiling->pandas_profiling) (1.1.1)\n",
      "Requirement already satisfied: python-dateutil>=2.7 in c:\\users\\ds\\anaconda3\\lib\\site-packages (from matplotlib<3.10,>=3.5->ydata-profiling->pandas_profiling) (2.8.2)\n",
      "Requirement already satisfied: packaging>=20.0 in c:\\users\\ds\\anaconda3\\lib\\site-packages (from matplotlib<3.10,>=3.5->ydata-profiling->pandas_profiling) (21.0)\n",
      "Collecting contourpy>=1.0.1\n",
      "  Using cached contourpy-1.2.1-cp39-cp39-win_amd64.whl (182 kB)\n",
      "Collecting importlib-resources>=3.2.0\n",
      "  Using cached importlib_resources-6.4.0-py3-none-any.whl (38 kB)\n",
      "Requirement already satisfied: pyparsing>=2.3.1 in c:\\users\\ds\\anaconda3\\lib\\site-packages (from matplotlib<3.10,>=3.5->ydata-profiling->pandas_profiling) (3.0.4)\n",
      "Requirement already satisfied: fonttools>=4.22.0 in c:\\users\\ds\\anaconda3\\lib\\site-packages (from matplotlib<3.10,>=3.5->ydata-profiling->pandas_profiling) (4.25.0)\n",
      "Requirement already satisfied: cycler>=0.10 in c:\\users\\ds\\anaconda3\\lib\\site-packages (from matplotlib<3.10,>=3.5->ydata-profiling->pandas_profiling) (0.10.0)\n",
      "Requirement already satisfied: kiwisolver>=1.3.1 in c:\\users\\ds\\anaconda3\\lib\\site-packages (from matplotlib<3.10,>=3.5->ydata-profiling->pandas_profiling) (1.3.1)\n",
      "Requirement already satisfied: six in c:\\users\\ds\\anaconda3\\lib\\site-packages (from cycler>=0.10->matplotlib<3.10,>=3.5->ydata-profiling->pandas_profiling) (1.16.0)\n",
      "Requirement already satisfied: zipp>=3.1.0 in c:\\users\\ds\\anaconda3\\lib\\site-packages (from importlib-resources>=3.2.0->matplotlib<3.10,>=3.5->ydata-profiling->pandas_profiling) (3.6.0)\n",
      "Collecting llvmlite<0.44,>=0.43.0dev0\n",
      "  Using cached llvmlite-0.43.0-cp39-cp39-win_amd64.whl (28.1 MB)\n",
      "Requirement already satisfied: pytz>=2017.3 in c:\\users\\ds\\anaconda3\\lib\\site-packages (from pandas!=1.4.0,<3,>1.1->ydata-profiling->pandas_profiling) (2021.3)\n",
      "Requirement already satisfied: joblib>=0.14.1 in c:\\users\\ds\\anaconda3\\lib\\site-packages (from phik<0.13,>=0.11.1->ydata-profiling->pandas_profiling) (1.1.0)\n",
      "Requirement already satisfied: typing-extensions>=4.6.1 in c:\\users\\ds\\anaconda3\\lib\\site-packages (from pydantic>=2->ydata-profiling->pandas_profiling) (4.11.0)\n",
      "Collecting annotated-types>=0.4.0\n",
      "  Using cached annotated_types-0.7.0-py3-none-any.whl (13 kB)\n",
      "Collecting pydantic-core==2.20.1\n",
      "  Using cached pydantic_core-2.20.1-cp39-none-win_amd64.whl (1.9 MB)\n",
      "Requirement already satisfied: urllib3<1.27,>=1.21.1 in c:\\users\\ds\\anaconda3\\lib\\site-packages (from requests<3,>=2.24.0->ydata-profiling->pandas_profiling) (1.26.7)\n",
      "Requirement already satisfied: certifi>=2017.4.17 in c:\\users\\ds\\anaconda3\\lib\\site-packages (from requests<3,>=2.24.0->ydata-profiling->pandas_profiling) (2024.6.2)\n",
      "Requirement already satisfied: charset-normalizer~=2.0.0 in c:\\users\\ds\\anaconda3\\lib\\site-packages (from requests<3,>=2.24.0->ydata-profiling->pandas_profiling) (2.0.4)\n",
      "Requirement already satisfied: idna<4,>=2.5 in c:\\users\\ds\\anaconda3\\lib\\site-packages (from requests<3,>=2.24.0->ydata-profiling->pandas_profiling) (3.2)\n",
      "Collecting patsy>=0.5.6\n",
      "  Using cached patsy-0.5.6-py2.py3-none-any.whl (233 kB)\n",
      "Collecting packaging>=20.0\n",
      "  Using cached packaging-24.1-py3-none-any.whl (53 kB)\n",
      "Collecting pandas!=1.4.0,<3,>1.1\n",
      "  Using cached pandas-2.2.2-cp39-cp39-win_amd64.whl (11.6 MB)\n",
      "Requirement already satisfied: tzdata>=2022.7 in c:\\users\\ds\\anaconda3\\lib\\site-packages (from pandas!=1.4.0,<3,>1.1->ydata-profiling->pandas_profiling) (2024.1)\n",
      "Requirement already satisfied: colorama in c:\\users\\ds\\anaconda3\\lib\\site-packages (from tqdm<5,>=4.48.2->ydata-profiling->pandas_profiling) (0.4.4)\n",
      "Requirement already satisfied: importlib-metadata>=3.6 in c:\\users\\ds\\anaconda3\\lib\\site-packages (from typeguard<5,>=3->ydata-profiling->pandas_profiling) (4.8.1)\n",
      "Requirement already satisfied: attrs>=19.3.0 in c:\\users\\ds\\anaconda3\\lib\\site-packages (from visions[type_image_path]<0.7.7,>=0.7.5->ydata-profiling->pandas_profiling) (21.2.0)\n",
      "Requirement already satisfied: networkx>=2.4 in c:\\users\\ds\\anaconda3\\lib\\site-packages (from visions[type_image_path]<0.7.7,>=0.7.5->ydata-profiling->pandas_profiling) (2.6.3)\n",
      "Installing collected packages: pandas, packaging, multimethod, importlib-resources, contourpy, visions, pydantic-core, patsy, matplotlib, llvmlite, imagehash, annotated-types, wordcloud, typeguard, statsmodels, pydantic, phik, numba, htmlmin, dacite, ydata-profiling, pandas-profiling\n",
      "  Attempting uninstall: pandas\n",
      "    Found existing installation: pandas 1.3.4\n",
      "    Uninstalling pandas-1.3.4:\n",
      "      Successfully uninstalled pandas-1.3.4\n",
      "  Attempting uninstall: packaging\n",
      "    Found existing installation: packaging 21.0\n",
      "    Uninstalling packaging-21.0:\n",
      "      Successfully uninstalled packaging-21.0\n",
      "  Attempting uninstall: patsy\n",
      "    Found existing installation: patsy 0.5.2\n",
      "    Uninstalling patsy-0.5.2:\n",
      "      Successfully uninstalled patsy-0.5.2\n",
      "  Attempting uninstall: matplotlib\n",
      "    Found existing installation: matplotlib 3.4.3\n",
      "    Uninstalling matplotlib-3.4.3:\n",
      "      Successfully uninstalled matplotlib-3.4.3\n",
      "  Attempting uninstall: llvmlite\n",
      "    Found existing installation: llvmlite 0.37.0\n",
      "Collecting sweetviz\n",
      "  Using cached sweetviz-2.3.1-py3-none-any.whl (15.1 MB)\n",
      "Requirement already satisfied: pandas!=1.0.0,!=1.0.1,!=1.0.2,>=0.25.3 in c:\\users\\ds\\anaconda3\\lib\\site-packages (from sweetviz) (2.2.2)\n",
      "Requirement already satisfied: importlib-resources>=1.2.0 in c:\\users\\ds\\anaconda3\\lib\\site-packages (from sweetviz) (6.4.0)\n",
      "Requirement already satisfied: tqdm>=4.43.0 in c:\\users\\ds\\anaconda3\\lib\\site-packages (from sweetviz) (4.62.3)\n",
      "Requirement already satisfied: jinja2>=2.11.1 in c:\\users\\ds\\anaconda3\\lib\\site-packages (from sweetviz) (2.11.3)\n",
      "Requirement already satisfied: numpy>=1.16.0 in c:\\users\\ds\\anaconda3\\lib\\site-packages (from sweetviz) (1.26.4)\n",
      "Requirement already satisfied: matplotlib>=3.1.3 in c:\\users\\ds\\anaconda3\\lib\\site-packages (from sweetviz) (3.9.1)\n",
      "Requirement already satisfied: scipy>=1.3.2 in c:\\users\\ds\\anaconda3\\lib\\site-packages (from sweetviz) (1.13.1)\n",
      "Requirement already satisfied: zipp>=3.1.0 in c:\\users\\ds\\anaconda3\\lib\\site-packages (from importlib-resources>=1.2.0->sweetviz) (3.6.0)\n",
      "Requirement already satisfied: MarkupSafe>=0.23 in c:\\users\\ds\\anaconda3\\lib\\site-packages (from jinja2>=2.11.1->sweetviz) (1.1.1)\n",
      "Requirement already satisfied: fonttools>=4.22.0 in c:\\users\\ds\\anaconda3\\lib\\site-packages (from matplotlib>=3.1.3->sweetviz) (4.25.0)\n",
      "Requirement already satisfied: cycler>=0.10 in c:\\users\\ds\\anaconda3\\lib\\site-packages (from matplotlib>=3.1.3->sweetviz) (0.10.0)\n",
      "Requirement already satisfied: kiwisolver>=1.3.1 in c:\\users\\ds\\anaconda3\\lib\\site-packages (from matplotlib>=3.1.3->sweetviz) (1.3.1)\n",
      "Requirement already satisfied: contourpy>=1.0.1 in c:\\users\\ds\\anaconda3\\lib\\site-packages (from matplotlib>=3.1.3->sweetviz) (1.2.1)\n",
      "Requirement already satisfied: pillow>=8 in c:\\users\\ds\\anaconda3\\lib\\site-packages (from matplotlib>=3.1.3->sweetviz) (8.4.0)\n",
      "Requirement already satisfied: packaging>=20.0 in c:\\users\\ds\\anaconda3\\lib\\site-packages (from matplotlib>=3.1.3->sweetviz) (24.1)\n",
      "Requirement already satisfied: pyparsing>=2.3.1 in c:\\users\\ds\\anaconda3\\lib\\site-packages (from matplotlib>=3.1.3->sweetviz) (3.0.4)\n",
      "Requirement already satisfied: python-dateutil>=2.7 in c:\\users\\ds\\anaconda3\\lib\\site-packages (from matplotlib>=3.1.3->sweetviz) (2.8.2)\n",
      "Requirement already satisfied: six in c:\\users\\ds\\anaconda3\\lib\\site-packages (from cycler>=0.10->matplotlib>=3.1.3->sweetviz) (1.16.0)\n",
      "Requirement already satisfied: pytz>=2020.1 in c:\\users\\ds\\anaconda3\\lib\\site-packages (from pandas!=1.0.0,!=1.0.1,!=1.0.2,>=0.25.3->sweetviz) (2021.3)\n",
      "Requirement already satisfied: tzdata>=2022.7 in c:\\users\\ds\\anaconda3\\lib\\site-packages (from pandas!=1.0.0,!=1.0.1,!=1.0.2,>=0.25.3->sweetviz) (2024.1)\n",
      "Requirement already satisfied: colorama in c:\\users\\ds\\anaconda3\\lib\\site-packages (from tqdm>=4.43.0->sweetviz) (0.4.4)\n",
      "Installing collected packages: sweetviz\n",
      "Successfully installed sweetviz-2.3.1\n"
     ]
    }
   ],
   "source": [
    "!pip install pandas_profiling\n",
    "!pip install sweetviz"
   ]
  },
  {
   "cell_type": "code",
   "execution_count": 2,
   "metadata": {},
   "outputs": [
    {
     "name": "stderr",
     "output_type": "stream",
     "text": [
      "C:\\Users\\ds\\anaconda3\\lib\\site-packages\\pandas\\core\\computation\\expressions.py:21: UserWarning: Pandas requires version '2.8.4' or newer of 'numexpr' (version '2.7.3' currently installed).\n",
      "  from pandas.core.computation.check import NUMEXPR_INSTALLED\n",
      "C:\\Users\\ds\\anaconda3\\lib\\site-packages\\pandas\\core\\arrays\\masked.py:60: UserWarning: Pandas requires version '1.3.6' or newer of 'bottleneck' (version '1.3.2' currently installed).\n",
      "  from pandas.core import (\n"
     ]
    },
    {
     "ename": "ModuleNotFoundError",
     "evalue": "No module named 'pandas_profiling'",
     "output_type": "error",
     "traceback": [
      "\u001b[1;31m---------------------------------------------------------------------------\u001b[0m",
      "\u001b[1;31mModuleNotFoundError\u001b[0m                       Traceback (most recent call last)",
      "\u001b[1;32m~\\AppData\\Local\\Temp/ipykernel_19908/4092403677.py\u001b[0m in \u001b[0;36m<module>\u001b[1;34m\u001b[0m\n\u001b[0;32m      2\u001b[0m \u001b[1;32mimport\u001b[0m \u001b[0mpandas\u001b[0m \u001b[1;32mas\u001b[0m \u001b[0mpd\u001b[0m\u001b[1;33m\u001b[0m\u001b[1;33m\u001b[0m\u001b[0m\n\u001b[0;32m      3\u001b[0m \u001b[1;32mimport\u001b[0m \u001b[0mnumpy\u001b[0m \u001b[1;32mas\u001b[0m \u001b[0mnp\u001b[0m\u001b[1;33m\u001b[0m\u001b[1;33m\u001b[0m\u001b[0m\n\u001b[1;32m----> 4\u001b[1;33m \u001b[1;32mimport\u001b[0m \u001b[0mpandas_profiling\u001b[0m \u001b[1;32mas\u001b[0m \u001b[0mpp\u001b[0m\u001b[1;33m\u001b[0m\u001b[1;33m\u001b[0m\u001b[0m\n\u001b[0m\u001b[0;32m      5\u001b[0m \u001b[1;32mimport\u001b[0m \u001b[0msweetviz\u001b[0m \u001b[1;32mas\u001b[0m \u001b[0msv\u001b[0m\u001b[1;33m\u001b[0m\u001b[1;33m\u001b[0m\u001b[0m\n",
      "\u001b[1;31mModuleNotFoundError\u001b[0m: No module named 'pandas_profiling'"
     ]
    }
   ],
   "source": [
    "#load the libraries\n",
    "import pandas as pd\n",
    "import numpy as np\n",
    "import pandas_profiling as pp\n",
    "import sweetviz as sv"
   ]
  },
  {
   "cell_type": "code",
   "execution_count": null,
   "metadata": {},
   "outputs": [],
   "source": [
    "data1 = pd.read_csv(\"DataScience5thJuly/data_clean.csv\")"
   ]
  },
  {
   "cell_type": "code",
   "execution_count": null,
   "metadata": {},
   "outputs": [],
   "source": [
    "data1"
   ]
  },
  {
   "cell_type": "code",
   "execution_count": null,
   "metadata": {},
   "outputs": [],
   "source": [
    "data1.tail(10)"
   ]
  },
  {
   "cell_type": "code",
   "execution_count": null,
   "metadata": {},
   "outputs": [],
   "source": [
    "data1"
   ]
  },
  {
   "cell_type": "code",
   "execution_count": null,
   "metadata": {},
   "outputs": [],
   "source": [
    "#Data Structure \n",
    "type(data1)\n",
    "data1.shape"
   ]
  },
  {
   "cell_type": "code",
   "execution_count": null,
   "metadata": {},
   "outputs": [],
   "source": [
    "#data types\n",
    "data1.dtypes"
   ]
  },
  {
   "cell_type": "markdown",
   "metadata": {},
   "source": [
    "# Data type conversion"
   ]
  },
  {
   "cell_type": "code",
   "execution_count": null,
   "metadata": {},
   "outputs": [],
   "source": [
    "data1.info()"
   ]
  },
  {
   "cell_type": "code",
   "execution_count": null,
   "metadata": {},
   "outputs": [],
   "source": [
    "data1"
   ]
  },
  {
   "cell_type": "code",
   "execution_count": null,
   "metadata": {},
   "outputs": [],
   "source": [
    "data2=data1.iloc[:,1:]"
   ]
  },
  {
   "cell_type": "code",
   "execution_count": null,
   "metadata": {},
   "outputs": [],
   "source": [
    "data2"
   ]
  },
  {
   "cell_type": "code",
   "execution_count": null,
   "metadata": {},
   "outputs": [],
   "source": [
    "#The method .copy() is used here so that any changes made in new DataFrame don't get reflected in the original one\n",
    "data=data2.copy()"
   ]
  },
  {
   "cell_type": "code",
   "execution_count": null,
   "metadata": {},
   "outputs": [],
   "source": [
    "data['Month']=pd.to_numeric(data['Month'],errors='coerce')\n",
    "data['Temp C']=pd.to_numeric(data['Temp C'],errors='coerce')# coerce will introduce NA values for non numeric data in the columns\n",
    "data['Weather']=data['Weather'].astype('category')           #data['Wind']=data['Wind'].astype('int64')"
   ]
  },
  {
   "cell_type": "code",
   "execution_count": null,
   "metadata": {},
   "outputs": [],
   "source": [
    "data.info()"
   ]
  },
  {
   "cell_type": "markdown",
   "metadata": {},
   "source": [
    "# Duplicates"
   ]
  },
  {
   "cell_type": "code",
   "execution_count": null,
   "metadata": {},
   "outputs": [],
   "source": [
    "#Count of duplicated rows\n",
    "data[data.duplicated()].shape"
   ]
  },
  {
   "cell_type": "code",
   "execution_count": null,
   "metadata": {},
   "outputs": [],
   "source": [
    "data"
   ]
  },
  {
   "cell_type": "code",
   "execution_count": null,
   "metadata": {},
   "outputs": [],
   "source": [
    "#Print the duplicated rows\n",
    "data[data.duplicated()]"
   ]
  },
  {
   "cell_type": "code",
   "execution_count": null,
   "metadata": {},
   "outputs": [],
   "source": [
    "data_cleaned1=data.drop_duplicates()"
   ]
  },
  {
   "cell_type": "code",
   "execution_count": null,
   "metadata": {},
   "outputs": [],
   "source": [
    "data_cleaned1.shape"
   ]
  },
  {
   "cell_type": "markdown",
   "metadata": {},
   "source": [
    "# Drop columns"
   ]
  },
  {
   "cell_type": "code",
   "execution_count": null,
   "metadata": {},
   "outputs": [],
   "source": [
    "data_cleaned2=data_cleaned1.drop('Temp C',axis=1)"
   ]
  },
  {
   "cell_type": "code",
   "execution_count": null,
   "metadata": {},
   "outputs": [],
   "source": [
    "data_cleaned2"
   ]
  },
  {
   "cell_type": "markdown",
   "metadata": {},
   "source": [
    "# Rename the columns"
   ]
  },
  {
   "cell_type": "code",
   "execution_count": null,
   "metadata": {},
   "outputs": [],
   "source": [
    "#rename the Solar column\n",
    "data_cleaned3 = data_cleaned2.rename({'Solar.R': 'Solar'}, axis=1)"
   ]
  },
  {
   "cell_type": "code",
   "execution_count": null,
   "metadata": {},
   "outputs": [],
   "source": [
    "data_cleaned3"
   ]
  },
  {
   "cell_type": "markdown",
   "metadata": {},
   "source": [
    "# Outlier Detection"
   ]
  },
  {
   "cell_type": "code",
   "execution_count": null,
   "metadata": {},
   "outputs": [],
   "source": [
    "# histogram of Ozone\n",
    "data_cleaned3['Ozone'].hist()"
   ]
  },
  {
   "cell_type": "code",
   "execution_count": null,
   "metadata": {},
   "outputs": [],
   "source": [
    "#Box plot\n",
    "data_cleaned3.boxplot(column=['Ozone'])"
   ]
  },
  {
   "cell_type": "code",
   "execution_count": null,
   "metadata": {},
   "outputs": [],
   "source": [
    "#Descriptive stat\n",
    "data_cleaned3['Ozone'].describe()"
   ]
  },
  {
   "cell_type": "code",
   "execution_count": null,
   "metadata": {},
   "outputs": [],
   "source": [
    "data_cleaned3"
   ]
  },
  {
   "cell_type": "code",
   "execution_count": null,
   "metadata": {},
   "outputs": [],
   "source": [
    "#Bar plot\n",
    "data['Weather'].value_counts().plot.bar()"
   ]
  },
  {
   "cell_type": "markdown",
   "metadata": {},
   "source": [
    "# Missing Values and Imputation"
   ]
  },
  {
   "cell_type": "code",
   "execution_count": null,
   "metadata": {},
   "outputs": [],
   "source": [
    "import seaborn as sns\n",
    "cols = data_cleaned3.columns \n",
    "colours = ['#000099', '#ffff00'] # specify the colours - yellow is missing. blue is not missing.\n",
    "sns.heatmap(data_cleaned3[cols].isnull(),\n",
    "            cmap=sns.color_palette(colours))"
   ]
  },
  {
   "cell_type": "code",
   "execution_count": null,
   "metadata": {},
   "outputs": [],
   "source": [
    "data_cleaned3[data_cleaned3.isnull().any(axis=1)].head()"
   ]
  },
  {
   "cell_type": "code",
   "execution_count": null,
   "metadata": {},
   "outputs": [],
   "source": [
    "data_cleaned3.isnull().sum()"
   ]
  },
  {
   "cell_type": "code",
   "execution_count": null,
   "metadata": {},
   "outputs": [],
   "source": [
    "#Mean Imputation\n",
    "mean = data_cleaned3['Ozone'].mean()\n",
    "print(mean)"
   ]
  },
  {
   "cell_type": "code",
   "execution_count": null,
   "metadata": {},
   "outputs": [],
   "source": [
    "data_cleaned3['Ozone'] = data_cleaned3['Ozone'].fillna(mean)"
   ]
  },
  {
   "cell_type": "code",
   "execution_count": null,
   "metadata": {},
   "outputs": [],
   "source": [
    "data_cleaned3"
   ]
  },
  {
   "cell_type": "code",
   "execution_count": null,
   "metadata": {},
   "outputs": [],
   "source": [
    "#Missing value imputation for categorical vlaue\n",
    "#Get the object columns\n",
    "obj_columns=data_cleaned3[['Weather']]"
   ]
  },
  {
   "cell_type": "code",
   "execution_count": null,
   "metadata": {},
   "outputs": [],
   "source": [
    "obj_columns.isnull().sum()"
   ]
  },
  {
   "cell_type": "code",
   "execution_count": null,
   "metadata": {},
   "outputs": [],
   "source": [
    "#Missing value imputation for categorical vlaue\n",
    "obj_columns=obj_columns.fillna(obj_columns.mode().iloc[0])"
   ]
  },
  {
   "cell_type": "code",
   "execution_count": null,
   "metadata": {},
   "outputs": [],
   "source": [
    "obj_columns.isnull().sum()"
   ]
  },
  {
   "cell_type": "code",
   "execution_count": null,
   "metadata": {},
   "outputs": [],
   "source": [
    "data_cleaned3.shape"
   ]
  },
  {
   "cell_type": "code",
   "execution_count": null,
   "metadata": {},
   "outputs": [],
   "source": [
    "obj_columns.shape"
   ]
  },
  {
   "cell_type": "code",
   "execution_count": null,
   "metadata": {},
   "outputs": [],
   "source": [
    "#Join the data set with imputed object dataset\n",
    "data_cleaned4=pd.concat([data_cleaned3,obj_columns],axis=1)"
   ]
  },
  {
   "cell_type": "code",
   "execution_count": null,
   "metadata": {},
   "outputs": [],
   "source": [
    "data_cleaned4.isnull().sum()"
   ]
  },
  {
   "cell_type": "markdown",
   "metadata": {},
   "source": [
    "# Scatter plot and Correlation analysis"
   ]
  },
  {
   "cell_type": "code",
   "execution_count": null,
   "metadata": {},
   "outputs": [],
   "source": [
    "# Seaborn visualization library\n",
    "import seaborn as sns\n",
    "# Create the default pairplot\n",
    "sns.pairplot(data_cleaned3)"
   ]
  },
  {
   "cell_type": "code",
   "execution_count": null,
   "metadata": {},
   "outputs": [],
   "source": [
    "#Correlation\n",
    "data_cleaned3.corr()"
   ]
  },
  {
   "cell_type": "markdown",
   "metadata": {},
   "source": [
    "# Transformations"
   ]
  },
  {
   "cell_type": "markdown",
   "metadata": {},
   "source": [
    "#### Dummy Variable"
   ]
  },
  {
   "cell_type": "code",
   "execution_count": null,
   "metadata": {},
   "outputs": [],
   "source": [
    "#Creating dummy variable for Weather column\n",
    "data_cleaned4=pd.get_dummies(data,columns=['Weather'])"
   ]
  },
  {
   "cell_type": "code",
   "execution_count": null,
   "metadata": {},
   "outputs": [],
   "source": [
    "data_cleaned4"
   ]
  },
  {
   "cell_type": "code",
   "execution_count": null,
   "metadata": {},
   "outputs": [],
   "source": [
    "data_cleaned4=data_cleaned4.dropna()"
   ]
  },
  {
   "cell_type": "markdown",
   "metadata": {},
   "source": [
    "#### Normalization of the data"
   ]
  },
  {
   "cell_type": "code",
   "execution_count": null,
   "metadata": {},
   "outputs": [],
   "source": [
    "#Normalization of the data\n",
    "from numpy import set_printoptions\n",
    "from sklearn.preprocessing import MinMaxScaler"
   ]
  },
  {
   "cell_type": "code",
   "execution_count": null,
   "metadata": {},
   "outputs": [],
   "source": [
    "data_cleaned4.values"
   ]
  },
  {
   "cell_type": "code",
   "execution_count": null,
   "metadata": {},
   "outputs": [],
   "source": [
    "array = data_cleaned3.values\n",
    "\n",
    "scaler = MinMaxScaler(feature_range=(0,1))\n",
    "rescaledX = scaler.fit_transform(array[:,0:5])\n",
    "\n",
    "#transformed data\n",
    "set_printoptions(precision=2)\n",
    "print(rescaledX[0:5,:])\n"
   ]
  },
  {
   "cell_type": "code",
   "execution_count": null,
   "metadata": {},
   "outputs": [],
   "source": [
    "# Standardize data (0 mean, 1 stdev)\n",
    "from sklearn.preprocessing import StandardScaler"
   ]
  },
  {
   "cell_type": "code",
   "execution_count": null,
   "metadata": {},
   "outputs": [],
   "source": [
    "array = data_cleaned4.values\n",
    "scaler = StandardScaler().fit(array)\n",
    "rescaledX = scaler.transform(array)\n",
    "\n",
    "# summarize transformed data\n",
    "set_printoptions(precision=2)\n",
    "print(rescaledX[0:5,:])"
   ]
  },
  {
   "cell_type": "markdown",
   "metadata": {},
   "source": [
    "# Speed up the EDA process"
   ]
  },
  {
   "cell_type": "code",
   "execution_count": null,
   "metadata": {},
   "outputs": [],
   "source": [
    "EDA_report= pp.ProfileReport(data)\n",
    "EDA_report.to_file(output_file='report.html')"
   ]
  },
  {
   "cell_type": "code",
   "execution_count": null,
   "metadata": {},
   "outputs": [],
   "source": [
    "sweet_report = sv.analyze(data)\n",
    "sweet_report.show_html('weather_report.html')"
   ]
  }
 ],
 "metadata": {
  "kernelspec": {
   "display_name": "Python 3 (ipykernel)",
   "language": "python",
   "name": "python3"
  },
  "language_info": {
   "codemirror_mode": {
    "name": "ipython",
    "version": 3
   },
   "file_extension": ".py",
   "mimetype": "text/x-python",
   "name": "python",
   "nbconvert_exporter": "python",
   "pygments_lexer": "ipython3",
   "version": "3.9.7"
  }
 },
 "nbformat": 4,
 "nbformat_minor": 2
}
